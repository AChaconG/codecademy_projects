{
 "cells": [
  {
   "cell_type": "markdown",
   "metadata": {},
   "source": [
    "# A/B Testing for ShoeFly.com\n",
    "\n",
    "## This a project for the data science career path in Codecademy.\n",
    "\n",
    "#### For this particular project, a dataset and instructions were provided as guidance to know what information was needed for this A/B testing, but I did all the coding myself. \n",
    "\n",
    "Our favorite online shoe store, ShoeFly.com is performing an A/B Test. They have two different versions of an ad, which they have placed in emails, as well as in banner ads on Facebook, Twitter, and Google. They want to know how the two ads are performing on each of the different platforms on each day of the week. Help them analyze the data using aggregate measures.\n",
    "\n",
    "### Analyzing Ad Sources\n",
    "\n",
    "#### 1. Examine the first few rows of ad_clicks."
   ]
  },
  {
   "cell_type": "code",
   "execution_count": 8,
   "metadata": {},
   "outputs": [
    {
     "name": "stdout",
     "output_type": "stream",
     "text": [
      "                                user_id utm_source           day  \\\n",
      "0  008b7c6c-7272-471e-b90e-930d548bd8d7     google  6 - Saturday   \n",
      "1  009abb94-5e14-4b6c-bb1c-4f4df7aa7557   facebook    7 - Sunday   \n",
      "2  00f5d532-ed58-4570-b6d2-768df5f41aed    twitter   2 - Tuesday   \n",
      "3  011adc64-0f44-4fd9-a0bb-f1506d2ad439     google   2 - Tuesday   \n",
      "4  012137e6-7ae7-4649-af68-205b4702169c   facebook    7 - Sunday   \n",
      "\n",
      "  ad_click_timestamp experimental_group  \n",
      "0               7:18                  A  \n",
      "1                NaN                  B  \n",
      "2                NaN                  A  \n",
      "3                NaN                  B  \n",
      "4                NaN                  B  \n"
     ]
    }
   ],
   "source": [
    "#import codecademylib\n",
    "import pandas as pd\n",
    "\n",
    "ad_clicks = pd.read_csv('ad_clicks.csv')\n",
    "print(ad_clicks.head())"
   ]
  },
  {
   "cell_type": "markdown",
   "metadata": {},
   "source": [
    "#### 2. Your manager wants to know which ad platform is getting you the most views. How many views (i.e., rows of the table) came from each utm_source?\n"
   ]
  },
  {
   "cell_type": "code",
   "execution_count": 9,
   "metadata": {},
   "outputs": [
    {
     "name": "stdout",
     "output_type": "stream",
     "text": [
      "  utm_source  user_id\n",
      "0      email      255\n",
      "1   facebook      504\n",
      "2     google      680\n",
      "3    twitter      215\n"
     ]
    }
   ],
   "source": [
    "most_views = ad_clicks.groupby('utm_source').user_id.count().reset_index()\n",
    "print(most_views)"
   ]
  },
  {
   "cell_type": "markdown",
   "metadata": {},
   "source": [
    "#### 3. If the column ad_click_timestamp is not null, then someone actually clicked on the ad that was displayed. Create a new column called is_click, which is True if ad_click_timestamp is not null and False otherwise.\n"
   ]
  },
  {
   "cell_type": "code",
   "execution_count": 10,
   "metadata": {},
   "outputs": [
    {
     "name": "stdout",
     "output_type": "stream",
     "text": [
      "                                   user_id utm_source            day  \\\n",
      "0     008b7c6c-7272-471e-b90e-930d548bd8d7     google   6 - Saturday   \n",
      "1     009abb94-5e14-4b6c-bb1c-4f4df7aa7557   facebook     7 - Sunday   \n",
      "2     00f5d532-ed58-4570-b6d2-768df5f41aed    twitter    2 - Tuesday   \n",
      "3     011adc64-0f44-4fd9-a0bb-f1506d2ad439     google    2 - Tuesday   \n",
      "4     012137e6-7ae7-4649-af68-205b4702169c   facebook     7 - Sunday   \n",
      "...                                    ...        ...            ...   \n",
      "1649  fe8b5236-78f6-4192-9da6-a76bba67cfe6    twitter     7 - Sunday   \n",
      "1650  fed3db6d-8c92-40e3-a4fb-1fb9d7337eb1   facebook     5 - Friday   \n",
      "1651  ff3a22ff-521c-478c-87ca-7dc7b8f34372    twitter  3 - Wednesday   \n",
      "1652  ff3af0d6-b092-4c4d-9f2e-2bdd8f7c0732     google     1 - Monday   \n",
      "1653  ffdfe7ec-0c74-4623-8d90-d95d80f1ba34   facebook   6 - Saturday   \n",
      "\n",
      "     ad_click_timestamp experimental_group  is_click  \n",
      "0                  7:18                  A      True  \n",
      "1                   NaN                  B     False  \n",
      "2                   NaN                  A     False  \n",
      "3                   NaN                  B     False  \n",
      "4                   NaN                  B     False  \n",
      "...                 ...                ...       ...  \n",
      "1649                NaN                  A     False  \n",
      "1650                NaN                  B     False  \n",
      "1651                NaN                  B     False  \n",
      "1652              22:57                  A      True  \n",
      "1653                NaN                  B     False  \n",
      "\n",
      "[1654 rows x 6 columns]\n"
     ]
    }
   ],
   "source": [
    "ad_clicks['is_click'] = ~ad_clicks.ad_click_timestamp.isnull()\n",
    "print(ad_clicks)"
   ]
  },
  {
   "cell_type": "markdown",
   "metadata": {},
   "source": [
    "#### 4. We want to know the percent of people who clicked on ads from each utm_source. Start by grouping by utm_source and is_click and counting the number of user_id‘s in each of those groups. Save your answer to the variable clicks_by_source.\n"
   ]
  },
  {
   "cell_type": "code",
   "execution_count": 11,
   "metadata": {},
   "outputs": [
    {
     "name": "stdout",
     "output_type": "stream",
     "text": [
      "  utm_source  is_click  user_id\n",
      "0      email     False      175\n",
      "1      email      True       80\n",
      "2   facebook     False      324\n",
      "3   facebook      True      180\n",
      "4     google     False      441\n",
      "5     google      True      239\n",
      "6    twitter     False      149\n",
      "7    twitter      True       66\n"
     ]
    }
   ],
   "source": [
    "clicks_by_source = ad_clicks.groupby(['utm_source','is_click']).user_id.count().reset_index()\n",
    "print(clicks_by_source)"
   ]
  },
  {
   "cell_type": "markdown",
   "metadata": {},
   "source": [
    "#### 5. Now let’s pivot the data so that the columns are is_click (either True or False), the index is utm_source, and the values are user_id. Save your results to the variable clicks_pivot.\n"
   ]
  },
  {
   "cell_type": "code",
   "execution_count": 12,
   "metadata": {},
   "outputs": [
    {
     "name": "stdout",
     "output_type": "stream",
     "text": [
      "is_click utm_source  False  True\n",
      "0             email    175    80\n",
      "1          facebook    324   180\n",
      "2            google    441   239\n",
      "3           twitter    149    66\n"
     ]
    }
   ],
   "source": [
    "clicks_pivot = clicks_by_source.pivot(columns = 'is_click', index = 'utm_source', values = 'user_id').reset_index()\n",
    "print(clicks_pivot)"
   ]
  },
  {
   "cell_type": "markdown",
   "metadata": {},
   "source": [
    "#### 6. Create a new column in clicks_pivot called percent_clicked which is equal to the percent of users who clicked on the ad from each utm_source. Was there a difference in click rates for each source?\n"
   ]
  },
  {
   "cell_type": "code",
   "execution_count": 13,
   "metadata": {},
   "outputs": [
    {
     "name": "stdout",
     "output_type": "stream",
     "text": [
      "is_click utm_source  False  True  percent_cliked\n",
      "0             email    175    80       31.372549\n",
      "1          facebook    324   180       35.714286\n",
      "2            google    441   239       35.147059\n",
      "3           twitter    149    66       30.697674\n"
     ]
    }
   ],
   "source": [
    "clicks_pivot['percent_cliked'] = clicks_pivot.apply(lambda row: (100 * row[True])/(row[True] + row[False]), axis = 1)\n",
    "print(clicks_pivot)"
   ]
  },
  {
   "cell_type": "markdown",
   "metadata": {},
   "source": [
    "## Analyzing an A/B Test\n",
    "#### 7. The column experimental_group tells us whether the user was shown Ad A or Ad B. Were approximately the same number of people shown both adds?\n"
   ]
  },
  {
   "cell_type": "code",
   "execution_count": 14,
   "metadata": {},
   "outputs": [
    {
     "name": "stdout",
     "output_type": "stream",
     "text": [
      "experimental_group\n",
      "A    827\n",
      "B    827\n",
      "Name: user_id, dtype: int64\n"
     ]
    }
   ],
   "source": [
    "print(ad_clicks.groupby('experimental_group').user_id.count())\n"
   ]
  },
  {
   "cell_type": "markdown",
   "metadata": {},
   "source": [
    "#### 8.  Using the column is_click that we defined earlier, check to see if a greater percentage of users clicked on Ad A or Ad B."
   ]
  },
  {
   "cell_type": "code",
   "execution_count": 15,
   "metadata": {},
   "outputs": [
    {
     "name": "stdout",
     "output_type": "stream",
     "text": [
      "  experimental_group  is_click  user_id\n",
      "0                  A     False      517\n",
      "1                  A      True      310\n",
      "2                  B     False      572\n",
      "3                  B      True      255\n",
      "is_click experimental_group  False  True\n",
      "0                         A    517   310\n",
      "1                         B    572   255\n"
     ]
    }
   ],
   "source": [
    "abtest = ad_clicks.groupby(['experimental_group','is_click']).user_id.count().reset_index()\n",
    "abtest_pivot = abtest.pivot(columns = 'is_click', index = 'experimental_group', values = 'user_id').reset_index()\n",
    "print(abtest)\n",
    "print(abtest_pivot)"
   ]
  },
  {
   "cell_type": "markdown",
   "metadata": {},
   "source": [
    "#### 9. The Product Manager for the A/B test thinks that the clicks might have changed by day of the week. Start by creating two DataFrames: a_clicks and b_clicks, which contain only the results for A group and B group, respectively.\n"
   ]
  },
  {
   "cell_type": "code",
   "execution_count": 16,
   "metadata": {},
   "outputs": [
    {
     "name": "stdout",
     "output_type": "stream",
     "text": [
      "                                  user_id utm_source            day  \\\n",
      "0    008b7c6c-7272-471e-b90e-930d548bd8d7     google   6 - Saturday   \n",
      "1    00f5d532-ed58-4570-b6d2-768df5f41aed    twitter    2 - Tuesday   \n",
      "2    013b0072-7b72-40e7-b698-98b4d0c9967f   facebook     1 - Monday   \n",
      "3    0153d85b-7660-4c39-92eb-1e1acd023280     google   4 - Thursday   \n",
      "4    01555297-d6e6-49ae-aeba-1b196fdbb09f     google  3 - Wednesday   \n",
      "..                                    ...        ...            ...   \n",
      "822  fceb13ea-fd8c-446a-a61f-f977d404330a    twitter   6 - Saturday   \n",
      "823  fd7d06ea-38b5-4ed9-acc9-777047db8c56     google   4 - Thursday   \n",
      "824  fe570a20-448f-40ed-930b-8482b8a7c231   facebook     1 - Monday   \n",
      "825  fe8b5236-78f6-4192-9da6-a76bba67cfe6    twitter     7 - Sunday   \n",
      "826  ff3af0d6-b092-4c4d-9f2e-2bdd8f7c0732     google     1 - Monday   \n",
      "\n",
      "    ad_click_timestamp experimental_group  is_click  \n",
      "0                 7:18                  A      True  \n",
      "1                  NaN                  A     False  \n",
      "2                  NaN                  A     False  \n",
      "3                  NaN                  A     False  \n",
      "4                  NaN                  A     False  \n",
      "..                 ...                ...       ...  \n",
      "822                NaN                  A     False  \n",
      "823                NaN                  A     False  \n",
      "824               20:7                  A      True  \n",
      "825                NaN                  A     False  \n",
      "826              22:57                  A      True  \n",
      "\n",
      "[827 rows x 6 columns]                                   user_id utm_source            day  \\\n",
      "0    009abb94-5e14-4b6c-bb1c-4f4df7aa7557   facebook     7 - Sunday   \n",
      "1    011adc64-0f44-4fd9-a0bb-f1506d2ad439     google    2 - Tuesday   \n",
      "2    012137e6-7ae7-4649-af68-205b4702169c   facebook     7 - Sunday   \n",
      "3    01a210c3-fde0-4e6f-8efd-4f0e38730ae6      email    2 - Tuesday   \n",
      "4    01adb2e7-f711-4ae4-a7c6-29f48457eea1     google  3 - Wednesday   \n",
      "..                                    ...        ...            ...   \n",
      "822  fd2a5852-f0ef-4162-84a6-107a42dc46b5    twitter  3 - Wednesday   \n",
      "823  fe6cfa5a-cc63-4770-8d56-c13ac8cf5bef     google  3 - Wednesday   \n",
      "824  fed3db6d-8c92-40e3-a4fb-1fb9d7337eb1   facebook     5 - Friday   \n",
      "825  ff3a22ff-521c-478c-87ca-7dc7b8f34372    twitter  3 - Wednesday   \n",
      "826  ffdfe7ec-0c74-4623-8d90-d95d80f1ba34   facebook   6 - Saturday   \n",
      "\n",
      "    ad_click_timestamp experimental_group  is_click  \n",
      "0                  NaN                  B     False  \n",
      "1                  NaN                  B     False  \n",
      "2                  NaN                  B     False  \n",
      "3                15:21                  B      True  \n",
      "4                  NaN                  B     False  \n",
      "..                 ...                ...       ...  \n",
      "822                NaN                  B     False  \n",
      "823               15:6                  B      True  \n",
      "824                NaN                  B     False  \n",
      "825                NaN                  B     False  \n",
      "826                NaN                  B     False  \n",
      "\n",
      "[827 rows x 6 columns]\n"
     ]
    }
   ],
   "source": [
    "a_clicks = ad_clicks[ad_clicks.experimental_group == 'A'].reset_index(drop = True)\n",
    "b_clicks = ad_clicks[ad_clicks.experimental_group == 'B'].reset_index(drop = True)\n",
    "print(a_clicks, b_clicks)"
   ]
  },
  {
   "cell_type": "markdown",
   "metadata": {},
   "source": [
    "#### 10. For each group (a_clicks and b_clicks), calculate the percent of users who clicked on the ad by day."
   ]
  },
  {
   "cell_type": "code",
   "execution_count": 17,
   "metadata": {},
   "outputs": [
    {
     "name": "stdout",
     "output_type": "stream",
     "text": [
      "is_click       False  True  percentage_true_over_total_users  \\\n",
      "day                                                            \n",
      "1 - Monday        70    43                              2.60   \n",
      "2 - Tuesday       76    43                              2.60   \n",
      "3 - Wednesday     86    38                              2.30   \n",
      "4 - Thursday      69    47                              2.84   \n",
      "5 - Friday        77    51                              3.08   \n",
      "6 - Saturday      73    45                              2.72   \n",
      "7 - Sunday        66    43                              2.60   \n",
      "\n",
      "is_click       percentage_true_by_day  \n",
      "day                                    \n",
      "1 - Monday                      38.05  \n",
      "2 - Tuesday                     36.13  \n",
      "3 - Wednesday                   30.65  \n",
      "4 - Thursday                    40.52  \n",
      "5 - Friday                      39.84  \n",
      "6 - Saturday                    38.14  \n",
      "7 - Sunday                      39.45   is_click       False  True  percentage_true_over_total_users  \\\n",
      "day                                                            \n",
      "1 - Monday        81    32                              1.93   \n",
      "2 - Tuesday       74    45                              2.72   \n",
      "3 - Wednesday     89    35                              2.12   \n",
      "4 - Thursday      87    29                              1.75   \n",
      "5 - Friday        90    38                              2.30   \n",
      "6 - Saturday      76    42                              2.54   \n",
      "7 - Sunday        75    34                              2.06   \n",
      "\n",
      "is_click       percentage_true_by_day  \n",
      "day                                    \n",
      "1 - Monday                      28.32  \n",
      "2 - Tuesday                     37.82  \n",
      "3 - Wednesday                   28.23  \n",
      "4 - Thursday                    25.00  \n",
      "5 - Friday                      29.69  \n",
      "6 - Saturday                    35.59  \n",
      "7 - Sunday                      31.19  \n"
     ]
    }
   ],
   "source": [
    "a_clicks_by_day = a_clicks.groupby(['day','is_click']).user_id.count().reset_index()\n",
    "a_clicks_by_day_pivot = a_clicks_by_day.pivot(columns = 'is_click', index = 'day', values = 'user_id')\n",
    "a_clicks_by_day_pivot['percentage_true_over_total_users'] = (a_clicks_by_day_pivot[True] * 100  / ad_clicks.user_id.count()).round(2)\n",
    "a_clicks_by_day_pivot['percentage_true_by_day'] = (a_clicks_by_day_pivot[True] * 100  / (a_clicks_by_day_pivot[True] + a_clicks_by_day_pivot[False])).round(2)\n",
    "\n",
    "b_clicks_by_day = b_clicks.groupby(['day','is_click']).user_id.count().reset_index()\n",
    "b_clicks_by_day_pivot = b_clicks_by_day.pivot(columns = 'is_click', index = 'day', values = 'user_id')\n",
    "b_clicks_by_day_pivot['percentage_true_over_total_users'] = (b_clicks_by_day_pivot[True] * 100  / ad_clicks.user_id.count()).round(2)\n",
    "b_clicks_by_day_pivot['percentage_true_by_day'] = (b_clicks_by_day_pivot[True] * 100  / (b_clicks_by_day_pivot[True] + b_clicks_by_day_pivot[False])).round(2)\n",
    "\n",
    "print(a_clicks_by_day_pivot, b_clicks_by_day_pivot)"
   ]
  },
  {
   "cell_type": "markdown",
   "metadata": {},
   "source": [
    "#### 11. Compare the results for A and B. What happened over the course of the week? Do you recommend that your company use Ad A or Ad B?\n"
   ]
  },
  {
   "cell_type": "code",
   "execution_count": 18,
   "metadata": {},
   "outputs": [
    {
     "name": "stdout",
     "output_type": "stream",
     "text": [
      "is_click       percentage_true_by_day_A  percentage_true_by_day_B\n",
      "day                                                              \n",
      "1 - Monday                        38.05                     28.32\n",
      "2 - Tuesday                       36.13                     37.82\n",
      "3 - Wednesday                     30.65                     28.23\n",
      "4 - Thursday                      40.52                     25.00\n",
      "5 - Friday                        39.84                     29.69\n",
      "6 - Saturday                      38.14                     35.59\n",
      "7 - Sunday                        39.45                     31.19\n"
     ]
    }
   ],
   "source": [
    "compareAB = a_clicks_by_day_pivot.filter(['percentage_true_by_day'], axis = 1)\n",
    "compareAB.rename(columns = {'percentage_true_by_day': 'percentage_true_by_day_A'}, inplace=True)\n",
    "compareAB['percentage_true_by_day_B'] = b_clicks_by_day_pivot['percentage_true_by_day']\n",
    "print(compareAB)"
   ]
  },
  {
   "cell_type": "markdown",
   "metadata": {},
   "source": [
    "Seems like ad A provides better results in general; the percentages of clicks are higher than for ad B for every day except for Tuesday.\n"
   ]
  },
  {
   "cell_type": "code",
   "execution_count": null,
   "metadata": {},
   "outputs": [],
   "source": []
  }
 ],
 "metadata": {
  "kernelspec": {
   "display_name": "Python 3",
   "language": "python",
   "name": "python3"
  },
  "language_info": {
   "codemirror_mode": {
    "name": "ipython",
    "version": 3
   },
   "file_extension": ".py",
   "mimetype": "text/x-python",
   "name": "python",
   "nbconvert_exporter": "python",
   "pygments_lexer": "ipython3",
   "version": "3.6.5"
  }
 },
 "nbformat": 4,
 "nbformat_minor": 2
}
